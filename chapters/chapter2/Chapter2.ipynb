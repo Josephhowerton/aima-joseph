{
 "cells": [
  {
   "cell_type": "code",
   "execution_count": 15,
   "id": "initial_id",
   "metadata": {
    "collapsed": true,
    "ExecuteTime": {
     "end_time": "2023-09-12T20:49:01.564124700Z",
     "start_time": "2023-09-12T20:49:01.523517Z"
    }
   },
   "outputs": [],
   "source": [
    "from things.agents import Agent\n",
    "from things.thing import Thing\n",
    "from environments.environment import Environment, GraphicEnvironment, Direction\n",
    "from IPython.display import display, HTML\n"
   ]
  },
  {
   "cell_type": "code",
   "execution_count": 16,
   "outputs": [],
   "source": [
    "class Water(Thing):\n",
    "    pass\n",
    "\n",
    "\n",
    "class Food(Thing):\n",
    "    pass\n",
    "\n",
    "def SimpleDogProgram(percepts):\n",
    "    for p in percepts:\n",
    "        if isinstance(p, Food):\n",
    "            return \"eat\"\n",
    "        elif isinstance(p, Water):\n",
    "            return \"drink\"\n",
    "    return \"move down\"\n",
    "\n",
    "class BlindDog(Agent):\n",
    "    location = [0, 0]\n",
    "    direction = Direction(\"down\")\n",
    "\n",
    "    def move_down(self):\n",
    "        self.location[1] += 1\n",
    "\n",
    "    def eat(self, thing):\n",
    "        return isinstance(thing, Food)\n",
    "\n",
    "    def drink(self, thing):\n",
    "        return isinstance(thing, Water)"
   ],
   "metadata": {
    "collapsed": false,
    "ExecuteTime": {
     "end_time": "2023-09-12T20:49:01.607546100Z",
     "start_time": "2023-09-12T20:49:01.544115600Z"
    }
   },
   "id": "c6b2d3dce222f8f9"
  },
  {
   "cell_type": "code",
   "execution_count": 17,
   "outputs": [],
   "source": [
    "class Park2D(GraphicEnvironment):\n",
    "    def percept(self, agent):\n",
    "        things = self.list_things_at(agent.location)\n",
    "        return things\n",
    "\n",
    "    def execute_action(self, agent, action):\n",
    "        if action == \"move down\":\n",
    "            print(\"{} is {} to {}\".format(str(agent)[1:-1], str(action), agent.location))\n",
    "            agent.move_down()\n",
    "        elif action == \"eat\":\n",
    "            items = self.list_things_at(agent.location, tclass=Food)\n",
    "            if len(items) != 0:\n",
    "                if agent.eat(items[0]):\n",
    "                    print(\"{} is {} at location {}\".format(str(agent)[1:-1], str(action)[1:-1], agent.location))\n",
    "                    self.delete_thing(items[0])\n",
    "        else:\n",
    "            items = self.list_things_at(agent.location, tclass=Water)\n",
    "            if len(items) != 0:\n",
    "                if agent.drink(items[0]):\n",
    "                    print(\"{} is {} at location {}\".format(str(agent)[1:-1], str(action)[1:-1], agent.location))\n",
    "                    self.delete_thing(items[0])\n",
    "\n",
    "    def is_done(self):\n",
    "        no_edible = not any(isinstance(thing, Water) or isinstance(thing, Food) for thing in self.things)\n",
    "        no_agents = not any(agent.is_alive for agent in self.agents)\n",
    "        return no_edible and no_agents"
   ],
   "metadata": {
    "collapsed": false,
    "ExecuteTime": {
     "end_time": "2023-09-12T20:49:01.630552600Z",
     "start_time": "2023-09-12T20:49:01.608536200Z"
    }
   },
   "id": "60a449ef71527f34"
  },
  {
   "cell_type": "code",
   "execution_count": 18,
   "outputs": [
    {
     "data": {
      "text/plain": "<IPython.core.display.HTML object>",
      "text/html": "<style type=\"text/css\">table.blockgrid {border: none;} .blockgrid tr {border: none;} .blockgrid td {padding: 0px;} #blocks683b861a-ab33-4cf1-a57c-35c4e6e2b8b0 td {border: 1px solid white;}</style><table id=\"blocks683b861a-ab33-4cf1-a57c-35c4e6e2b8b0\" class=\"blockgrid\"><tbody><tr><td title=\"Index: [0, 0]&#10;Color: (200, 200, 200)\" style=\"width: 20px; height: 20px;background-color: rgb(200, 200, 200);\"></td><td title=\"Index: [0, 1]&#10;Color: (200, 200, 200)\" style=\"width: 20px; height: 20px;background-color: rgb(200, 200, 200);\"></td><td title=\"Index: [0, 2]&#10;Color: (200, 200, 200)\" style=\"width: 20px; height: 20px;background-color: rgb(200, 200, 200);\"></td><td title=\"Index: [0, 3]&#10;Color: (200, 200, 200)\" style=\"width: 20px; height: 20px;background-color: rgb(200, 200, 200);\"></td><td title=\"Index: [0, 4]&#10;Color: (200, 200, 200)\" style=\"width: 20px; height: 20px;background-color: rgb(200, 200, 200);\"></td></tr><tr><td title=\"Index: [1, 0]&#10;Color: (200, 200, 200)\" style=\"width: 20px; height: 20px;background-color: rgb(200, 200, 200);\"></td><td title=\"Index: [1, 1]&#10;Color: (200, 200, 200)\" style=\"width: 20px; height: 20px;background-color: rgb(200, 200, 200);\"></td><td title=\"Index: [1, 2]&#10;Color: (200, 200, 200)\" style=\"width: 20px; height: 20px;background-color: rgb(200, 200, 200);\"></td><td title=\"Index: [1, 3]&#10;Color: (200, 200, 200)\" style=\"width: 20px; height: 20px;background-color: rgb(200, 200, 200);\"></td><td title=\"Index: [1, 4]&#10;Color: (200, 200, 200)\" style=\"width: 20px; height: 20px;background-color: rgb(200, 200, 200);\"></td></tr><tr><td title=\"Index: [2, 0]&#10;Color: (200, 200, 200)\" style=\"width: 20px; height: 20px;background-color: rgb(200, 200, 200);\"></td><td title=\"Index: [2, 1]&#10;Color: (200, 200, 200)\" style=\"width: 20px; height: 20px;background-color: rgb(200, 200, 200);\"></td><td title=\"Index: [2, 2]&#10;Color: (200, 200, 200)\" style=\"width: 20px; height: 20px;background-color: rgb(200, 200, 200);\"></td><td title=\"Index: [2, 3]&#10;Color: (200, 200, 200)\" style=\"width: 20px; height: 20px;background-color: rgb(200, 200, 200);\"></td><td title=\"Index: [2, 4]&#10;Color: (200, 200, 200)\" style=\"width: 20px; height: 20px;background-color: rgb(200, 200, 200);\"></td></tr><tr><td title=\"Index: [3, 0]&#10;Color: (200, 200, 200)\" style=\"width: 20px; height: 20px;background-color: rgb(200, 200, 200);\"></td><td title=\"Index: [3, 1]&#10;Color: (200, 200, 200)\" style=\"width: 20px; height: 20px;background-color: rgb(200, 200, 200);\"></td><td title=\"Index: [3, 2]&#10;Color: (200, 200, 200)\" style=\"width: 20px; height: 20px;background-color: rgb(200, 200, 200);\"></td><td title=\"Index: [3, 3]&#10;Color: (200, 200, 200)\" style=\"width: 20px; height: 20px;background-color: rgb(200, 200, 200);\"></td><td title=\"Index: [3, 4]&#10;Color: (200, 200, 200)\" style=\"width: 20px; height: 20px;background-color: rgb(200, 200, 200);\"></td></tr><tr><td title=\"Index: [4, 0]&#10;Color: (200, 200, 200)\" style=\"width: 20px; height: 20px;background-color: rgb(200, 200, 200);\"></td><td title=\"Index: [4, 1]&#10;Color: (200, 200, 200)\" style=\"width: 20px; height: 20px;background-color: rgb(200, 200, 200);\"></td><td title=\"Index: [4, 2]&#10;Color: (200, 200, 200)\" style=\"width: 20px; height: 20px;background-color: rgb(200, 200, 200);\"></td><td title=\"Index: [4, 3]&#10;Color: (200, 200, 200)\" style=\"width: 20px; height: 20px;background-color: rgb(200, 200, 200);\"></td><td title=\"Index: [4, 4]&#10;Color: (200, 200, 200)\" style=\"width: 20px; height: 20px;background-color: rgb(200, 200, 200);\"></td></tr><tr><td title=\"Index: [5, 0]&#10;Color: (200, 200, 200)\" style=\"width: 20px; height: 20px;background-color: rgb(200, 200, 200);\"></td><td title=\"Index: [5, 1]&#10;Color: (200, 200, 200)\" style=\"width: 20px; height: 20px;background-color: rgb(200, 200, 200);\"></td><td title=\"Index: [5, 2]&#10;Color: (200, 200, 200)\" style=\"width: 20px; height: 20px;background-color: rgb(200, 200, 200);\"></td><td title=\"Index: [5, 3]&#10;Color: (200, 200, 200)\" style=\"width: 20px; height: 20px;background-color: rgb(200, 200, 200);\"></td><td title=\"Index: [5, 4]&#10;Color: (200, 200, 200)\" style=\"width: 20px; height: 20px;background-color: rgb(200, 200, 200);\"></td></tr><tr><td title=\"Index: [6, 0]&#10;Color: (200, 200, 200)\" style=\"width: 20px; height: 20px;background-color: rgb(200, 200, 200);\"></td><td title=\"Index: [6, 1]&#10;Color: (200, 200, 200)\" style=\"width: 20px; height: 20px;background-color: rgb(200, 200, 200);\"></td><td title=\"Index: [6, 2]&#10;Color: (200, 200, 200)\" style=\"width: 20px; height: 20px;background-color: rgb(200, 200, 200);\"></td><td title=\"Index: [6, 3]&#10;Color: (200, 200, 200)\" style=\"width: 20px; height: 20px;background-color: rgb(200, 200, 200);\"></td><td title=\"Index: [6, 4]&#10;Color: (200, 200, 200)\" style=\"width: 20px; height: 20px;background-color: rgb(200, 200, 200);\"></td></tr><tr><td title=\"Index: [7, 0]&#10;Color: (200, 200, 200)\" style=\"width: 20px; height: 20px;background-color: rgb(200, 200, 200);\"></td><td title=\"Index: [7, 1]&#10;Color: (200, 200, 200)\" style=\"width: 20px; height: 20px;background-color: rgb(200, 200, 200);\"></td><td title=\"Index: [7, 2]&#10;Color: (200, 200, 200)\" style=\"width: 20px; height: 20px;background-color: rgb(200, 200, 200);\"></td><td title=\"Index: [7, 3]&#10;Color: (200, 200, 200)\" style=\"width: 20px; height: 20px;background-color: rgb(200, 200, 200);\"></td><td title=\"Index: [7, 4]&#10;Color: (200, 200, 200)\" style=\"width: 20px; height: 20px;background-color: rgb(200, 200, 200);\"></td></tr><tr><td title=\"Index: [8, 0]&#10;Color: (200, 200, 200)\" style=\"width: 20px; height: 20px;background-color: rgb(200, 200, 200);\"></td><td title=\"Index: [8, 1]&#10;Color: (200, 200, 200)\" style=\"width: 20px; height: 20px;background-color: rgb(200, 200, 200);\"></td><td title=\"Index: [8, 2]&#10;Color: (200, 200, 200)\" style=\"width: 20px; height: 20px;background-color: rgb(200, 200, 200);\"></td><td title=\"Index: [8, 3]&#10;Color: (200, 200, 200)\" style=\"width: 20px; height: 20px;background-color: rgb(200, 200, 200);\"></td><td title=\"Index: [8, 4]&#10;Color: (200, 200, 200)\" style=\"width: 20px; height: 20px;background-color: rgb(200, 200, 200);\"></td></tr><tr><td title=\"Index: [9, 0]&#10;Color: (200, 200, 200)\" style=\"width: 20px; height: 20px;background-color: rgb(200, 200, 200);\"></td><td title=\"Index: [9, 1]&#10;Color: (200, 200, 200)\" style=\"width: 20px; height: 20px;background-color: rgb(200, 200, 200);\"></td><td title=\"Index: [9, 2]&#10;Color: (200, 200, 200)\" style=\"width: 20px; height: 20px;background-color: rgb(200, 200, 200);\"></td><td title=\"Index: [9, 3]&#10;Color: (200, 200, 200)\" style=\"width: 20px; height: 20px;background-color: rgb(200, 200, 200);\"></td><td title=\"Index: [9, 4]&#10;Color: (200, 200, 200)\" style=\"width: 20px; height: 20px;background-color: rgb(200, 200, 200);\"></td></tr><tr><td title=\"Index: [10, 0]&#10;Color: (200, 200, 200)\" style=\"width: 20px; height: 20px;background-color: rgb(200, 200, 200);\"></td><td title=\"Index: [10, 1]&#10;Color: (200, 200, 200)\" style=\"width: 20px; height: 20px;background-color: rgb(200, 200, 200);\"></td><td title=\"Index: [10, 2]&#10;Color: (200, 200, 200)\" style=\"width: 20px; height: 20px;background-color: rgb(200, 200, 200);\"></td><td title=\"Index: [10, 3]&#10;Color: (200, 200, 200)\" style=\"width: 20px; height: 20px;background-color: rgb(200, 200, 200);\"></td><td title=\"Index: [10, 4]&#10;Color: (200, 200, 200)\" style=\"width: 20px; height: 20px;background-color: rgb(200, 200, 200);\"></td></tr><tr><td title=\"Index: [11, 0]&#10;Color: (200, 200, 200)\" style=\"width: 20px; height: 20px;background-color: rgb(200, 200, 200);\"></td><td title=\"Index: [11, 1]&#10;Color: (200, 200, 200)\" style=\"width: 20px; height: 20px;background-color: rgb(200, 200, 200);\"></td><td title=\"Index: [11, 2]&#10;Color: (200, 200, 200)\" style=\"width: 20px; height: 20px;background-color: rgb(200, 200, 200);\"></td><td title=\"Index: [11, 3]&#10;Color: (200, 200, 200)\" style=\"width: 20px; height: 20px;background-color: rgb(200, 200, 200);\"></td><td title=\"Index: [11, 4]&#10;Color: (200, 200, 200)\" style=\"width: 20px; height: 20px;background-color: rgb(200, 200, 200);\"></td></tr><tr><td title=\"Index: [12, 0]&#10;Color: (200, 200, 200)\" style=\"width: 20px; height: 20px;background-color: rgb(200, 200, 200);\"></td><td title=\"Index: [12, 1]&#10;Color: (200, 200, 200)\" style=\"width: 20px; height: 20px;background-color: rgb(200, 200, 200);\"></td><td title=\"Index: [12, 2]&#10;Color: (200, 200, 200)\" style=\"width: 20px; height: 20px;background-color: rgb(200, 200, 200);\"></td><td title=\"Index: [12, 3]&#10;Color: (200, 200, 200)\" style=\"width: 20px; height: 20px;background-color: rgb(200, 200, 200);\"></td><td title=\"Index: [12, 4]&#10;Color: (200, 200, 200)\" style=\"width: 20px; height: 20px;background-color: rgb(200, 200, 200);\"></td></tr><tr><td title=\"Index: [13, 0]&#10;Color: (200, 200, 200)\" style=\"width: 20px; height: 20px;background-color: rgb(200, 200, 200);\"></td><td title=\"Index: [13, 1]&#10;Color: (200, 200, 200)\" style=\"width: 20px; height: 20px;background-color: rgb(200, 200, 200);\"></td><td title=\"Index: [13, 2]&#10;Color: (200, 200, 200)\" style=\"width: 20px; height: 20px;background-color: rgb(200, 200, 200);\"></td><td title=\"Index: [13, 3]&#10;Color: (200, 200, 200)\" style=\"width: 20px; height: 20px;background-color: rgb(200, 200, 200);\"></td><td title=\"Index: [13, 4]&#10;Color: (200, 200, 200)\" style=\"width: 20px; height: 20px;background-color: rgb(200, 200, 200);\"></td></tr><tr><td title=\"Index: [14, 0]&#10;Color: (200, 200, 200)\" style=\"width: 20px; height: 20px;background-color: rgb(200, 200, 200);\"></td><td title=\"Index: [14, 1]&#10;Color: (200, 200, 200)\" style=\"width: 20px; height: 20px;background-color: rgb(200, 200, 200);\"></td><td title=\"Index: [14, 2]&#10;Color: (200, 200, 200)\" style=\"width: 20px; height: 20px;background-color: rgb(200, 200, 200);\"></td><td title=\"Index: [14, 3]&#10;Color: (200, 200, 200)\" style=\"width: 20px; height: 20px;background-color: rgb(200, 200, 200);\"></td><td title=\"Index: [14, 4]&#10;Color: (200, 200, 200)\" style=\"width: 20px; height: 20px;background-color: rgb(200, 200, 200);\"></td></tr><tr><td title=\"Index: [15, 0]&#10;Color: (200, 200, 200)\" style=\"width: 20px; height: 20px;background-color: rgb(200, 200, 200);\"></td><td title=\"Index: [15, 1]&#10;Color: (200, 200, 200)\" style=\"width: 20px; height: 20px;background-color: rgb(200, 200, 200);\"></td><td title=\"Index: [15, 2]&#10;Color: (200, 200, 200)\" style=\"width: 20px; height: 20px;background-color: rgb(200, 200, 200);\"></td><td title=\"Index: [15, 3]&#10;Color: (200, 200, 200)\" style=\"width: 20px; height: 20px;background-color: rgb(200, 200, 200);\"></td><td title=\"Index: [15, 4]&#10;Color: (200, 200, 200)\" style=\"width: 20px; height: 20px;background-color: rgb(200, 200, 200);\"></td></tr><tr><td title=\"Index: [16, 0]&#10;Color: (200, 200, 200)\" style=\"width: 20px; height: 20px;background-color: rgb(200, 200, 200);\"></td><td title=\"Index: [16, 1]&#10;Color: (200, 200, 200)\" style=\"width: 20px; height: 20px;background-color: rgb(200, 200, 200);\"></td><td title=\"Index: [16, 2]&#10;Color: (200, 200, 200)\" style=\"width: 20px; height: 20px;background-color: rgb(200, 200, 200);\"></td><td title=\"Index: [16, 3]&#10;Color: (200, 200, 200)\" style=\"width: 20px; height: 20px;background-color: rgb(200, 200, 200);\"></td><td title=\"Index: [16, 4]&#10;Color: (200, 200, 200)\" style=\"width: 20px; height: 20px;background-color: rgb(200, 200, 200);\"></td></tr><tr><td title=\"Index: [17, 0]&#10;Color: (200, 200, 200)\" style=\"width: 20px; height: 20px;background-color: rgb(200, 200, 200);\"></td><td title=\"Index: [17, 1]&#10;Color: (200, 200, 200)\" style=\"width: 20px; height: 20px;background-color: rgb(200, 200, 200);\"></td><td title=\"Index: [17, 2]&#10;Color: (200, 200, 200)\" style=\"width: 20px; height: 20px;background-color: rgb(200, 200, 200);\"></td><td title=\"Index: [17, 3]&#10;Color: (200, 200, 200)\" style=\"width: 20px; height: 20px;background-color: rgb(200, 200, 200);\"></td><td title=\"Index: [17, 4]&#10;Color: (200, 200, 200)\" style=\"width: 20px; height: 20px;background-color: rgb(200, 200, 200);\"></td></tr><tr><td title=\"Index: [18, 0]&#10;Color: (200, 200, 200)\" style=\"width: 20px; height: 20px;background-color: rgb(200, 200, 200);\"></td><td title=\"Index: [18, 1]&#10;Color: (200, 200, 200)\" style=\"width: 20px; height: 20px;background-color: rgb(200, 200, 200);\"></td><td title=\"Index: [18, 2]&#10;Color: (200, 200, 200)\" style=\"width: 20px; height: 20px;background-color: rgb(200, 200, 200);\"></td><td title=\"Index: [18, 3]&#10;Color: (200, 200, 200)\" style=\"width: 20px; height: 20px;background-color: rgb(200, 200, 200);\"></td><td title=\"Index: [18, 4]&#10;Color: (200, 200, 200)\" style=\"width: 20px; height: 20px;background-color: rgb(200, 200, 200);\"></td></tr><tr><td title=\"Index: [19, 0]&#10;Color: (200, 200, 200)\" style=\"width: 20px; height: 20px;background-color: rgb(200, 200, 200);\"></td><td title=\"Index: [19, 1]&#10;Color: (200, 200, 200)\" style=\"width: 20px; height: 20px;background-color: rgb(200, 200, 200);\"></td><td title=\"Index: [19, 2]&#10;Color: (200, 200, 200)\" style=\"width: 20px; height: 20px;background-color: rgb(200, 200, 200);\"></td><td title=\"Index: [19, 3]&#10;Color: (200, 200, 200)\" style=\"width: 20px; height: 20px;background-color: rgb(200, 200, 200);\"></td><td title=\"Index: [19, 4]&#10;Color: (200, 200, 200)\" style=\"width: 20px; height: 20px;background-color: rgb(200, 200, 200);\"></td></tr></tbody></table>"
     },
     "metadata": {},
     "output_type": "display_data"
    },
    {
     "name": "stdout",
     "output_type": "stream",
     "text": [
      "BlindDog is move down to [0, 0]\n",
      "BlindDog is move down to [0, 1]\n",
      "BlindDog is move down to [0, 2]\n",
      "BlindDog is move down to [0, 3]\n",
      "BlindDog is move down to [0, 4]\n",
      "BlindDog is move down to [0, 5]\n",
      "BlindDog is move down to [0, 6]\n",
      "BlindDog is move down to [0, 7]\n",
      "BlindDog is move down to [0, 8]\n",
      "BlindDog is move down to [0, 9]\n",
      "BlindDog is move down to [0, 10]\n",
      "BlindDog is move down to [0, 11]\n",
      "BlindDog is move down to [0, 12]\n",
      "BlindDog is move down to [0, 13]\n",
      "BlindDog is move down to [0, 14]\n",
      "BlindDog is move down to [0, 15]\n",
      "BlindDog is move down to [0, 16]\n",
      "BlindDog is move down to [0, 17]\n",
      "BlindDog is move down to [0, 18]\n",
      "BlindDog is move down to [0, 19]\n",
      "BlindDog is move down to [0, 20]\n",
      "BlindDog is move down to [0, 21]\n",
      "BlindDog is move down to [0, 22]\n",
      "BlindDog is move down to [0, 23]\n",
      "BlindDog is move down to [0, 24]\n",
      "BlindDog is move down to [0, 25]\n",
      "BlindDog is move down to [0, 26]\n",
      "BlindDog is move down to [0, 27]\n",
      "BlindDog is move down to [0, 28]\n",
      "BlindDog is move down to [0, 29]\n",
      "BlindDog is move down to [0, 30]\n",
      "BlindDog is move down to [0, 31]\n",
      "BlindDog is move down to [0, 32]\n",
      "BlindDog is move down to [0, 33]\n",
      "BlindDog is move down to [0, 34]\n",
      "BlindDog is move down to [0, 35]\n",
      "BlindDog is move down to [0, 36]\n",
      "BlindDog is move down to [0, 37]\n",
      "BlindDog is move down to [0, 38]\n",
      "BlindDog is move down to [0, 39]\n",
      "BlindDog is move down to [0, 40]\n",
      "BlindDog is move down to [0, 41]\n",
      "BlindDog is move down to [0, 42]\n",
      "BlindDog is move down to [0, 43]\n",
      "BlindDog is move down to [0, 44]\n",
      "BlindDog is move down to [0, 45]\n",
      "BlindDog is move down to [0, 46]\n",
      "BlindDog is move down to [0, 47]\n",
      "BlindDog is move down to [0, 48]\n",
      "BlindDog is move down to [0, 49]\n",
      "BlindDog is move down to [0, 50]\n",
      "BlindDog is move down to [0, 51]\n",
      "BlindDog is move down to [0, 52]\n",
      "BlindDog is move down to [0, 53]\n",
      "BlindDog is move down to [0, 54]\n",
      "BlindDog is move down to [0, 55]\n",
      "BlindDog is move down to [0, 56]\n",
      "BlindDog is move down to [0, 57]\n",
      "BlindDog is move down to [0, 58]\n",
      "BlindDog is move down to [0, 59]\n",
      "BlindDog is move down to [0, 60]\n",
      "BlindDog is move down to [0, 61]\n",
      "BlindDog is move down to [0, 62]\n",
      "BlindDog is move down to [0, 63]\n",
      "BlindDog is move down to [0, 64]\n",
      "BlindDog is move down to [0, 65]\n",
      "BlindDog is move down to [0, 66]\n",
      "BlindDog is move down to [0, 67]\n",
      "BlindDog is move down to [0, 68]\n",
      "BlindDog is move down to [0, 69]\n",
      "BlindDog is move down to [0, 70]\n",
      "BlindDog is move down to [0, 71]\n",
      "BlindDog is move down to [0, 72]\n",
      "BlindDog is move down to [0, 73]\n",
      "BlindDog is move down to [0, 74]\n",
      "BlindDog is move down to [0, 75]\n",
      "BlindDog is move down to [0, 76]\n",
      "BlindDog is move down to [0, 77]\n",
      "BlindDog is move down to [0, 78]\n",
      "BlindDog is move down to [0, 79]\n",
      "BlindDog is move down to [0, 80]\n",
      "BlindDog is move down to [0, 81]\n",
      "BlindDog is move down to [0, 82]\n",
      "BlindDog is move down to [0, 83]\n",
      "BlindDog is move down to [0, 84]\n",
      "BlindDog is move down to [0, 85]\n",
      "BlindDog is move down to [0, 86]\n",
      "BlindDog is move down to [0, 87]\n",
      "BlindDog is move down to [0, 88]\n",
      "BlindDog is move down to [0, 89]\n",
      "BlindDog is move down to [0, 90]\n",
      "BlindDog is move down to [0, 91]\n",
      "BlindDog is move down to [0, 92]\n",
      "BlindDog is move down to [0, 93]\n",
      "BlindDog is move down to [0, 94]\n",
      "BlindDog is move down to [0, 95]\n",
      "BlindDog is move down to [0, 96]\n",
      "BlindDog is move down to [0, 97]\n",
      "BlindDog is move down to [0, 98]\n",
      "BlindDog is move down to [0, 99]\n"
     ]
    }
   ],
   "source": [
    "dogPark2d = Park2D(5, 20, color={'BlindDog': (200, 0, 0), 'Water': (0, 200, 200), 'Food': (230, 115, 40)}, display=True)\n",
    "dog = BlindDog(SimpleDogProgram)\n",
    "\n",
    "stream = Water()\n",
    "puddle = Water()\n",
    "\n",
    "hotDog = Food()\n",
    "dogFood = Food()\n",
    "\n",
    "# adding agent\n",
    "dogPark2d.add_thing(dog, dog.location)\n",
    "\n",
    "#adding water\n",
    "dogPark2d.add_thing(stream, [1,3])\n",
    "dogPark2d.add_thing(puddle, [2,3])\n",
    "\n",
    "dogPark2d.add_thing(hotDog, [2,6])\n",
    "dogPark2d.add_thing(dogFood, [9,19])\n",
    "\n",
    "dogPark2d.run(100)"
   ],
   "metadata": {
    "collapsed": false,
    "ExecuteTime": {
     "end_time": "2023-09-12T20:49:01.665547800Z",
     "start_time": "2023-09-12T20:49:01.631554Z"
    }
   },
   "id": "a1ee20576bd53a72"
  },
  {
   "cell_type": "code",
   "execution_count": 18,
   "outputs": [],
   "source": [],
   "metadata": {
    "collapsed": false,
    "ExecuteTime": {
     "end_time": "2023-09-12T20:49:01.676550700Z",
     "start_time": "2023-09-12T20:49:01.665547800Z"
    }
   },
   "id": "6adc9ec970e312eb"
  }
 ],
 "metadata": {
  "kernelspec": {
   "display_name": "Python 3",
   "language": "python",
   "name": "python3"
  },
  "language_info": {
   "codemirror_mode": {
    "name": "ipython",
    "version": 2
   },
   "file_extension": ".py",
   "mimetype": "text/x-python",
   "name": "python",
   "nbconvert_exporter": "python",
   "pygments_lexer": "ipython2",
   "version": "2.7.6"
  }
 },
 "nbformat": 4,
 "nbformat_minor": 5
}
